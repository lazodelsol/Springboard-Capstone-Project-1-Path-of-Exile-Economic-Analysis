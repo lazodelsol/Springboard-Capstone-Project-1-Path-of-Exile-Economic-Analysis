{
 "cells": [
  {
   "cell_type": "markdown",
   "metadata": {},
   "source": [
    "# Import necessary libraries"
   ]
  },
  {
   "cell_type": "code",
   "execution_count": 4,
   "metadata": {},
   "outputs": [],
   "source": [
    "import numpy as np\n",
    "import pandas as pd\n",
    "import matplotlib.pyplot as plot\n",
    "import seaborn as sns\n",
    "import datetime as dt\n",
    "from scipy import stats\n",
    "import os\n",
    "import glob\n",
    "sns.set()\n",
    "pd.options.mode.chained_assignment = None  # default='warn'\n",
    "%matplotlib inline"
   ]
  },
  {
   "cell_type": "markdown",
   "metadata": {},
   "source": [
    "# Importing dataframes"
   ]
  },
  {
   "cell_type": "markdown",
   "metadata": {},
   "source": [
    "## Defining cleaning functions"
   ]
  },
  {
   "cell_type": "code",
   "execution_count": 6,
   "metadata": {},
   "outputs": [],
   "source": [
    "def item_header_clean(df):\n",
    "    column_map = {\n",
    "    \"index\" : \"League\",\n",
    "    \"League\": \"Date\",\n",
    "    \"Date\": \"Id\",\n",
    "    \"Id\" : \"Type\"\n",
    "    }\n",
    "    df_indexreset = df.reset_index()\n",
    "    df_renamed = df_indexreset.rename(columns = column_map)\n",
    "    return df_renamed\n",
    "\n",
    "def item_info_remove(df):\n",
    "    items_to_drop = [\"Prophecy\", \"DivinationCard\"]\n",
    "    cols_to_drop = [\"Links\", \"Variant\"]\n",
    "    df_cols_dropped = df.drop(cols_to_drop, axis = 1)\n",
    "    df_all_dropped = df_cols_dropped.loc[~df_cols_dropped[\"Type\"].isin(items_to_drop)]\n",
    "    return df_all_dropped\n",
    "\n",
    "def item_top_15_filter(df):\n",
    "    median_series = df.groupby(\"Name\")[\"Value\"].agg(\"median\")\n",
    "    sorted_series = median_series.sort_values(ascending = False)\n",
    "    top_15_list = list(sorted_series[:15].index)\n",
    "    df_top_15 = df.loc[df[\"Name\"].isin(top_15_list)]\n",
    "    return df_top_15\n",
    "\n",
    "def add_relative_date(df):\n",
    "    df_copy = df\n",
    "    df_copy[\"Date\"] = df_copy[\"Date\"].astype('datetime64[D]')\n",
    "    startdate = df_copy[\"Date\"].min()\n",
    "    df_copy[\"RelativeDate\"] = (df_copy[\"Date\"] - startdate)\n",
    "    df_edited = df_copy.drop(\"Date\", axis = 1)\n",
    "    df_edited[\"RelativeDate\"] = pd.to_timedelta(df_edited[\"RelativeDate\"], unit = \"D\")\n",
    "    return df_edited\n",
    "\n",
    "def league_lifespan(row):\n",
    "    early_league = dt.timedelta(days = 14)\n",
    "    mid_league = dt.timedelta(days = 60)\n",
    "    if row[\"RelativeDate\"] <= early_league:\n",
    "        return \"Early\"\n",
    "    elif row[\"RelativeDate\"] <= mid_league:\n",
    "        return \"Mid\"\n",
    "    return \"End\"\n",
    "\n",
    "def item_file_clean(df):\n",
    "    df1 = item_header_clean(df)\n",
    "    df2 = item_info_remove(df1)\n",
    "    df3 = item_top_15_filter(df2)\n",
    "    df4 = add_relative_date(df3)\n",
    "    df4[\"League Lifespan\"] = df4.apply(league_lifespan, axis = 1)\n",
    "    return df4\n",
    "\n",
    "def currency_info_remove(df):\n",
    "    currency_to_drop = [\"Portal Scroll\", \"Scroll of Wisdom\", \"Armourer's Scrap\", \"Perandus Coin\", \"Orb of Transmutation\", \"Blacksmith's Whetstone\", \"Orb of Augmentation\", \"Orb of Alteration\", \"Splinter of Tul\", \"Chromatic Orb\", \"Splinter of Esh\", \"Splinter of Xoph\", \"Orb of Chance\", \"Glassblower's Bauble\", \"Splinter of Uul-Netol\", \"Silver Coin\"]\n",
    "    df_currency_dropped = df.loc[~(df[\"Get\"].isin(currency_to_drop) | df[\"Pay\"].isin(currency_to_drop))]\n",
    "    return df_currency_dropped\n",
    "\n",
    "def currency_file_clean(df):\n",
    "    df1 = currency_info_remove(df)\n",
    "    df2 = add_relative_date(df1)\n",
    "    df2[\"League Lifespan\"] = df2.apply(league_lifespan, axis = 1)\n",
    "    return df2"
   ]
  },
  {
   "cell_type": "markdown",
   "metadata": {},
   "source": [
    "## File Import and Concatenation"
   ]
  },
  {
   "cell_type": "code",
   "execution_count": 9,
   "metadata": {},
   "outputs": [
    {
     "name": "stdout",
     "output_type": "stream",
     "text": [
      "<class 'pandas.core.frame.DataFrame'>\n",
      "Int64Index: 6891 entries, 71448 to 195619\n",
      "Data columns (total 9 columns):\n",
      "League             6891 non-null object\n",
      "Id                 6891 non-null int64\n",
      "Type               6891 non-null object\n",
      "Name               6891 non-null object\n",
      "BaseType           6891 non-null object\n",
      "Value              6891 non-null float64\n",
      "Confidence         6891 non-null object\n",
      "RelativeDate       6891 non-null timedelta64[ns]\n",
      "League Lifespan    6891 non-null object\n",
      "dtypes: float64(1), int64(1), object(6), timedelta64[ns](1)\n",
      "memory usage: 538.4+ KB\n"
     ]
    }
   ],
   "source": [
    "# Import/Concatenate item files\n",
    "item_df_list = []\n",
    "for filename in glob.glob(\"*_items.csv\"):\n",
    "    df = pd.read_csv(filename, delimiter = \";\", low_memory = False)\n",
    "    df_edited = item_file_clean(df)\n",
    "    item_df_list.append(df_edited)\n",
    "item_df = pd.concat(item_df_list, axis = 0)\n",
    "del item_df_list\n",
    "item_df.info()"
   ]
  },
  {
   "cell_type": "code",
   "execution_count": 10,
   "metadata": {},
   "outputs": [
    {
     "name": "stdout",
     "output_type": "stream",
     "text": [
      "<class 'pandas.core.frame.DataFrame'>\n",
      "Int64Index: 31827 entries, 356 to 16162\n",
      "Data columns (total 7 columns):\n",
      "League             31827 non-null object\n",
      "Get                31827 non-null object\n",
      "Pay                31827 non-null object\n",
      "Value              31827 non-null float64\n",
      "Confidence         31827 non-null object\n",
      "RelativeDate       31827 non-null timedelta64[ns]\n",
      "League Lifespan    31827 non-null object\n",
      "dtypes: float64(1), object(5), timedelta64[ns](1)\n",
      "memory usage: 1.9+ MB\n"
     ]
    }
   ],
   "source": [
    "#Import/Concatenate currency files\n",
    "currency_df_list = []\n",
    "for filename in glob.glob(\"*_currency.csv\"):\n",
    "    df = pd.read_csv(filename, delimiter = \";\", low_memory = False)\n",
    "    df_edited = currency_file_clean(df)\n",
    "    currency_df_list.append(df_edited)\n",
    "currency_df = pd.concat(currency_df_list, axis = 0)\n",
    "del currency_df_list\n",
    "currency_df.info()"
   ]
  },
  {
   "cell_type": "code",
   "execution_count": null,
   "metadata": {},
   "outputs": [],
   "source": []
  }
 ],
 "metadata": {
  "kernelspec": {
   "display_name": "Python 3",
   "language": "python",
   "name": "python3"
  },
  "language_info": {
   "codemirror_mode": {
    "name": "ipython",
    "version": 3
   },
   "file_extension": ".py",
   "mimetype": "text/x-python",
   "name": "python",
   "nbconvert_exporter": "python",
   "pygments_lexer": "ipython3",
   "version": "3.6.5"
  }
 },
 "nbformat": 4,
 "nbformat_minor": 2
}
