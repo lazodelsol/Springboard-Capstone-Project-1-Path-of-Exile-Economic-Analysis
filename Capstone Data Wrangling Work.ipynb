{
 "cells": [
  {
   "cell_type": "markdown",
   "metadata": {},
   "source": [
    "# Library Initilization"
   ]
  },
  {
   "cell_type": "code",
   "execution_count": 160,
   "metadata": {},
   "outputs": [],
   "source": [
    "import numpy as np\n",
    "import pandas as pd\n",
    "import matplotlib.pyplot as plot\n",
    "import seaborn as sns\n",
    "import datetime as dt\n",
    "from scipy import stats\n",
    "import os\n",
    "import glob\n",
    "sns.set()\n",
    "pd.options.mode.chained_assignment = None  # default='warn'\n",
    "%matplotlib inline"
   ]
  },
  {
   "cell_type": "markdown",
   "metadata": {},
   "source": [
    "## Cleaning functions"
   ]
  },
  {
   "cell_type": "code",
   "execution_count": 161,
   "metadata": {},
   "outputs": [],
   "source": [
    "def item_header_clean(df):\n",
    "    column_map = {\n",
    "    \"index\" : \"League\",\n",
    "    \"League\": \"Date\",\n",
    "    \"Date\": \"Id\",\n",
    "    \"Id\" : \"Type\"\n",
    "    }\n",
    "    df_indexreset = df.reset_index()\n",
    "    df_renamed = df_indexreset.rename(columns = column_map)\n",
    "    return df_renamed\n",
    "\n",
    "def item_info_fix(df):\n",
    "    cols_to_drop = [\"Links\", \"Variant\"]\n",
    "    df_cols_dropped = df.drop(cols_to_drop, axis = 1)\n",
    "    df_cols_dropped.BaseType = df_cols_dropped.BaseType.fillna(df_cols_dropped.Type)\n",
    "    df_fixed = df_cols_dropped\n",
    "    return df_fixed\n",
    "\n",
    "def item_top_15_filter(df):\n",
    "    median_series = df.groupby(\"Name\")[\"Value\"].agg(\"median\")\n",
    "    sorted_series = median_series.sort_values(ascending = False)\n",
    "    top_15_list = list(sorted_series[:15].index)\n",
    "    df_top_15 = df.loc[df[\"Name\"].isin(top_15_list)]\n",
    "    return df_top_15\n",
    "\n",
    "def add_relative_date(df):\n",
    "    df_copy = df\n",
    "    df_copy[\"Date\"] = df_copy[\"Date\"].astype('datetime64[D]')\n",
    "    startdate = df_copy[\"Date\"].min()\n",
    "    df_copy[\"RelativeDate\"] = (df_copy[\"Date\"] - startdate)\n",
    "    df_edited = df_copy.drop(\"Date\", axis = 1)\n",
    "    df_edited[\"RelativeDate\"] = pd.to_timedelta(df_edited[\"RelativeDate\"], unit = \"D\")\n",
    "    return df_edited\n",
    "\n",
    "def league_lifespan(row):\n",
    "    early_league = dt.timedelta(days = 14)\n",
    "    mid_league = dt.timedelta(days = 60)\n",
    "    if row[\"RelativeDate\"] <= early_league:\n",
    "        return \"Early\"\n",
    "    elif row[\"RelativeDate\"] <= mid_league:\n",
    "        return \"Mid\"\n",
    "    return \"End\"\n",
    "\n",
    "def item_file_clean(df):\n",
    "    df1 = item_header_clean(df)\n",
    "    df2 = item_info_fix(df1)\n",
    "    df3 = item_top_15_filter(df2)\n",
    "    df4 = add_relative_date(df3)\n",
    "    df4[\"League Lifespan\"] = df4.apply(league_lifespan, axis = 1)\n",
    "    return df4\n",
    "\n",
    "def currency_info_fix(df):\n",
    "    currency_to_drop = [\"Portal Scroll\", \"Scroll of Wisdom\", \"Armourer's Scrap\", \"Perandus Coin\", \"Orb of Transmutation\", \"Blacksmith's Whetstone\", \"Orb of Augmentation\", \"Orb of Alteration\", \"Splinter of Tul\", \"Chromatic Orb\", \"Splinter of Esh\", \"Splinter of Xoph\", \"Orb of Chance\", \"Glassblower's Bauble\", \"Splinter of Uul-Netol\", \"Silver Coin\"]\n",
    "    df_currency_fixed = df.loc[~(df[\"Get\"].isin(currency_to_drop) | df[\"Pay\"].isin(currency_to_drop))]\n",
    "    return df_currency_fixed\n",
    "\n",
    "def currency_file_clean(df):\n",
    "    df1 = currency_info_fix(df)\n",
    "    df2 = add_relative_date(df1)\n",
    "    df2[\"League Lifespan\"] = df2.apply(league_lifespan, axis = 1)\n",
    "    return df2"
   ]
  },
  {
   "cell_type": "markdown",
   "metadata": {},
   "source": [
    "## Data Import"
   ]
  },
  {
   "cell_type": "code",
   "execution_count": 162,
   "metadata": {},
   "outputs": [
    {
     "data": {
      "text/html": [
       "<div>\n",
       "<style scoped>\n",
       "    .dataframe tbody tr th:only-of-type {\n",
       "        vertical-align: middle;\n",
       "    }\n",
       "\n",
       "    .dataframe tbody tr th {\n",
       "        vertical-align: top;\n",
       "    }\n",
       "\n",
       "    .dataframe thead th {\n",
       "        text-align: right;\n",
       "    }\n",
       "</style>\n",
       "<table border=\"1\" class=\"dataframe\">\n",
       "  <thead>\n",
       "    <tr style=\"text-align: right;\">\n",
       "      <th></th>\n",
       "      <th>League</th>\n",
       "      <th>Date</th>\n",
       "      <th>Get</th>\n",
       "      <th>Pay</th>\n",
       "      <th>Value</th>\n",
       "      <th>Confidence</th>\n",
       "    </tr>\n",
       "  </thead>\n",
       "  <tbody>\n",
       "    <tr>\n",
       "      <th>0</th>\n",
       "      <td>Breach</td>\n",
       "      <td>2016-12-02</td>\n",
       "      <td>Silver Coin</td>\n",
       "      <td>Chaos Orb</td>\n",
       "      <td>0.96667</td>\n",
       "      <td>High</td>\n",
       "    </tr>\n",
       "    <tr>\n",
       "      <th>1</th>\n",
       "      <td>Breach</td>\n",
       "      <td>2016-12-03</td>\n",
       "      <td>Silver Coin</td>\n",
       "      <td>Chaos Orb</td>\n",
       "      <td>0.21937</td>\n",
       "      <td>High</td>\n",
       "    </tr>\n",
       "    <tr>\n",
       "      <th>2</th>\n",
       "      <td>Breach</td>\n",
       "      <td>2016-12-04</td>\n",
       "      <td>Silver Coin</td>\n",
       "      <td>Chaos Orb</td>\n",
       "      <td>0.18339</td>\n",
       "      <td>High</td>\n",
       "    </tr>\n",
       "    <tr>\n",
       "      <th>3</th>\n",
       "      <td>Breach</td>\n",
       "      <td>2016-12-05</td>\n",
       "      <td>Silver Coin</td>\n",
       "      <td>Chaos Orb</td>\n",
       "      <td>0.23571</td>\n",
       "      <td>High</td>\n",
       "    </tr>\n",
       "    <tr>\n",
       "      <th>4</th>\n",
       "      <td>Breach</td>\n",
       "      <td>2016-12-06</td>\n",
       "      <td>Silver Coin</td>\n",
       "      <td>Chaos Orb</td>\n",
       "      <td>0.26395</td>\n",
       "      <td>High</td>\n",
       "    </tr>\n",
       "  </tbody>\n",
       "</table>\n",
       "</div>"
      ],
      "text/plain": [
       "   League        Date          Get        Pay    Value Confidence\n",
       "0  Breach  2016-12-02  Silver Coin  Chaos Orb  0.96667       High\n",
       "1  Breach  2016-12-03  Silver Coin  Chaos Orb  0.21937       High\n",
       "2  Breach  2016-12-04  Silver Coin  Chaos Orb  0.18339       High\n",
       "3  Breach  2016-12-05  Silver Coin  Chaos Orb  0.23571       High\n",
       "4  Breach  2016-12-06  Silver Coin  Chaos Orb  0.26395       High"
      ]
     },
     "execution_count": 162,
     "metadata": {},
     "output_type": "execute_result"
    }
   ],
   "source": [
    "breach_currency = pd.read_csv(\"1_currency.csv\", sep = \";\", index_col = None)\n",
    "breach_items = pd.read_csv(\"1_items.csv\", sep = \";\", index_col = None)\n",
    "breach_currency.head()"
   ]
  },
  {
   "cell_type": "code",
   "execution_count": 163,
   "metadata": {
    "scrolled": true
   },
   "outputs": [
    {
     "data": {
      "text/html": [
       "<div>\n",
       "<style scoped>\n",
       "    .dataframe tbody tr th:only-of-type {\n",
       "        vertical-align: middle;\n",
       "    }\n",
       "\n",
       "    .dataframe tbody tr th {\n",
       "        vertical-align: top;\n",
       "    }\n",
       "\n",
       "    .dataframe thead th {\n",
       "        text-align: right;\n",
       "    }\n",
       "</style>\n",
       "<table border=\"1\" class=\"dataframe\">\n",
       "  <thead>\n",
       "    <tr style=\"text-align: right;\">\n",
       "      <th></th>\n",
       "      <th>index</th>\n",
       "      <th>League</th>\n",
       "      <th>Date</th>\n",
       "      <th>Id</th>\n",
       "      <th>Name</th>\n",
       "      <th>BaseType</th>\n",
       "      <th>Variant</th>\n",
       "      <th>Links</th>\n",
       "      <th>Value</th>\n",
       "      <th>Confidence</th>\n",
       "    </tr>\n",
       "  </thead>\n",
       "  <tbody>\n",
       "    <tr>\n",
       "      <th>0</th>\n",
       "      <td>Breach</td>\n",
       "      <td>2016-12-02</td>\n",
       "      <td>1079</td>\n",
       "      <td>UniqueArmour</td>\n",
       "      <td>Sadima's Touch</td>\n",
       "      <td>Wool Gloves</td>\n",
       "      <td>NaN</td>\n",
       "      <td>1-4 links</td>\n",
       "      <td>0.78800</td>\n",
       "      <td>High</td>\n",
       "    </tr>\n",
       "    <tr>\n",
       "      <th>1</th>\n",
       "      <td>Breach</td>\n",
       "      <td>2016-12-03</td>\n",
       "      <td>1079</td>\n",
       "      <td>UniqueArmour</td>\n",
       "      <td>Sadima's Touch</td>\n",
       "      <td>Wool Gloves</td>\n",
       "      <td>NaN</td>\n",
       "      <td>1-4 links</td>\n",
       "      <td>0.29912</td>\n",
       "      <td>High</td>\n",
       "    </tr>\n",
       "    <tr>\n",
       "      <th>2</th>\n",
       "      <td>Breach</td>\n",
       "      <td>2016-12-04</td>\n",
       "      <td>1079</td>\n",
       "      <td>UniqueArmour</td>\n",
       "      <td>Sadima's Touch</td>\n",
       "      <td>Wool Gloves</td>\n",
       "      <td>NaN</td>\n",
       "      <td>1-4 links</td>\n",
       "      <td>0.15429</td>\n",
       "      <td>High</td>\n",
       "    </tr>\n",
       "    <tr>\n",
       "      <th>3</th>\n",
       "      <td>Breach</td>\n",
       "      <td>2016-12-05</td>\n",
       "      <td>1079</td>\n",
       "      <td>UniqueArmour</td>\n",
       "      <td>Sadima's Touch</td>\n",
       "      <td>Wool Gloves</td>\n",
       "      <td>NaN</td>\n",
       "      <td>1-4 links</td>\n",
       "      <td>0.18333</td>\n",
       "      <td>High</td>\n",
       "    </tr>\n",
       "    <tr>\n",
       "      <th>4</th>\n",
       "      <td>Breach</td>\n",
       "      <td>2016-12-06</td>\n",
       "      <td>1079</td>\n",
       "      <td>UniqueArmour</td>\n",
       "      <td>Sadima's Touch</td>\n",
       "      <td>Wool Gloves</td>\n",
       "      <td>NaN</td>\n",
       "      <td>1-4 links</td>\n",
       "      <td>0.20815</td>\n",
       "      <td>High</td>\n",
       "    </tr>\n",
       "  </tbody>\n",
       "</table>\n",
       "</div>"
      ],
      "text/plain": [
       "    index      League  Date            Id            Name     BaseType  \\\n",
       "0  Breach  2016-12-02  1079  UniqueArmour  Sadima's Touch  Wool Gloves   \n",
       "1  Breach  2016-12-03  1079  UniqueArmour  Sadima's Touch  Wool Gloves   \n",
       "2  Breach  2016-12-04  1079  UniqueArmour  Sadima's Touch  Wool Gloves   \n",
       "3  Breach  2016-12-05  1079  UniqueArmour  Sadima's Touch  Wool Gloves   \n",
       "4  Breach  2016-12-06  1079  UniqueArmour  Sadima's Touch  Wool Gloves   \n",
       "\n",
       "  Variant      Links    Value Confidence  \n",
       "0     NaN  1-4 links  0.78800       High  \n",
       "1     NaN  1-4 links  0.29912       High  \n",
       "2     NaN  1-4 links  0.15429       High  \n",
       "3     NaN  1-4 links  0.18333       High  \n",
       "4     NaN  1-4 links  0.20815       High  "
      ]
     },
     "execution_count": 163,
     "metadata": {},
     "output_type": "execute_result"
    }
   ],
   "source": [
    "breach_items_indexreset = breach_items.reset_index()\n",
    "breach_items_indexreset.head()"
   ]
  },
  {
   "cell_type": "code",
   "execution_count": 164,
   "metadata": {},
   "outputs": [
    {
     "data": {
      "text/html": [
       "<div>\n",
       "<style scoped>\n",
       "    .dataframe tbody tr th:only-of-type {\n",
       "        vertical-align: middle;\n",
       "    }\n",
       "\n",
       "    .dataframe tbody tr th {\n",
       "        vertical-align: top;\n",
       "    }\n",
       "\n",
       "    .dataframe thead th {\n",
       "        text-align: right;\n",
       "    }\n",
       "</style>\n",
       "<table border=\"1\" class=\"dataframe\">\n",
       "  <thead>\n",
       "    <tr style=\"text-align: right;\">\n",
       "      <th></th>\n",
       "      <th>League</th>\n",
       "      <th>Date</th>\n",
       "      <th>Id</th>\n",
       "      <th>Type</th>\n",
       "      <th>Name</th>\n",
       "      <th>BaseType</th>\n",
       "      <th>Variant</th>\n",
       "      <th>Links</th>\n",
       "      <th>Value</th>\n",
       "      <th>Confidence</th>\n",
       "    </tr>\n",
       "  </thead>\n",
       "  <tbody>\n",
       "    <tr>\n",
       "      <th>0</th>\n",
       "      <td>Breach</td>\n",
       "      <td>2016-12-02</td>\n",
       "      <td>1079</td>\n",
       "      <td>UniqueArmour</td>\n",
       "      <td>Sadima's Touch</td>\n",
       "      <td>Wool Gloves</td>\n",
       "      <td>NaN</td>\n",
       "      <td>1-4 links</td>\n",
       "      <td>0.78800</td>\n",
       "      <td>High</td>\n",
       "    </tr>\n",
       "    <tr>\n",
       "      <th>1</th>\n",
       "      <td>Breach</td>\n",
       "      <td>2016-12-03</td>\n",
       "      <td>1079</td>\n",
       "      <td>UniqueArmour</td>\n",
       "      <td>Sadima's Touch</td>\n",
       "      <td>Wool Gloves</td>\n",
       "      <td>NaN</td>\n",
       "      <td>1-4 links</td>\n",
       "      <td>0.29912</td>\n",
       "      <td>High</td>\n",
       "    </tr>\n",
       "    <tr>\n",
       "      <th>2</th>\n",
       "      <td>Breach</td>\n",
       "      <td>2016-12-04</td>\n",
       "      <td>1079</td>\n",
       "      <td>UniqueArmour</td>\n",
       "      <td>Sadima's Touch</td>\n",
       "      <td>Wool Gloves</td>\n",
       "      <td>NaN</td>\n",
       "      <td>1-4 links</td>\n",
       "      <td>0.15429</td>\n",
       "      <td>High</td>\n",
       "    </tr>\n",
       "    <tr>\n",
       "      <th>3</th>\n",
       "      <td>Breach</td>\n",
       "      <td>2016-12-05</td>\n",
       "      <td>1079</td>\n",
       "      <td>UniqueArmour</td>\n",
       "      <td>Sadima's Touch</td>\n",
       "      <td>Wool Gloves</td>\n",
       "      <td>NaN</td>\n",
       "      <td>1-4 links</td>\n",
       "      <td>0.18333</td>\n",
       "      <td>High</td>\n",
       "    </tr>\n",
       "    <tr>\n",
       "      <th>4</th>\n",
       "      <td>Breach</td>\n",
       "      <td>2016-12-06</td>\n",
       "      <td>1079</td>\n",
       "      <td>UniqueArmour</td>\n",
       "      <td>Sadima's Touch</td>\n",
       "      <td>Wool Gloves</td>\n",
       "      <td>NaN</td>\n",
       "      <td>1-4 links</td>\n",
       "      <td>0.20815</td>\n",
       "      <td>High</td>\n",
       "    </tr>\n",
       "  </tbody>\n",
       "</table>\n",
       "</div>"
      ],
      "text/plain": [
       "   League        Date    Id          Type            Name     BaseType  \\\n",
       "0  Breach  2016-12-02  1079  UniqueArmour  Sadima's Touch  Wool Gloves   \n",
       "1  Breach  2016-12-03  1079  UniqueArmour  Sadima's Touch  Wool Gloves   \n",
       "2  Breach  2016-12-04  1079  UniqueArmour  Sadima's Touch  Wool Gloves   \n",
       "3  Breach  2016-12-05  1079  UniqueArmour  Sadima's Touch  Wool Gloves   \n",
       "4  Breach  2016-12-06  1079  UniqueArmour  Sadima's Touch  Wool Gloves   \n",
       "\n",
       "  Variant      Links    Value Confidence  \n",
       "0     NaN  1-4 links  0.78800       High  \n",
       "1     NaN  1-4 links  0.29912       High  \n",
       "2     NaN  1-4 links  0.15429       High  \n",
       "3     NaN  1-4 links  0.18333       High  \n",
       "4     NaN  1-4 links  0.20815       High  "
      ]
     },
     "execution_count": 164,
     "metadata": {},
     "output_type": "execute_result"
    }
   ],
   "source": [
    "column_map = {\n",
    "    \"index\" : \"League\",\n",
    "    \"League\": \"Date\",\n",
    "    \"Date\": \"Id\",\n",
    "    \"Id\" : \"Type\"\n",
    "}\n",
    "breach_items = breach_items_indexreset.rename(columns = column_map)\n",
    "breach_items.head()"
   ]
  },
  {
   "cell_type": "code",
   "execution_count": 165,
   "metadata": {
    "scrolled": true
   },
   "outputs": [
    {
     "name": "stdout",
     "output_type": "stream",
     "text": [
      "<class 'pandas.core.frame.DataFrame'>\n",
      "RangeIndex: 9932 entries, 0 to 9931\n",
      "Data columns (total 6 columns):\n",
      "League        9932 non-null object\n",
      "Date          9932 non-null object\n",
      "Get           9932 non-null object\n",
      "Pay           9932 non-null object\n",
      "Value         9932 non-null float64\n",
      "Confidence    9932 non-null object\n",
      "dtypes: float64(1), object(5)\n",
      "memory usage: 465.6+ KB\n"
     ]
    }
   ],
   "source": [
    "breach_currency.info()"
   ]
  },
  {
   "cell_type": "markdown",
   "metadata": {},
   "source": [
    "# Wrangling the item dataset"
   ]
  },
  {
   "cell_type": "code",
   "execution_count": 166,
   "metadata": {
    "scrolled": false
   },
   "outputs": [
    {
     "name": "stdout",
     "output_type": "stream",
     "text": [
      "<class 'pandas.core.frame.DataFrame'>\n",
      "RangeIndex: 133166 entries, 0 to 133165\n",
      "Data columns (total 10 columns):\n",
      "League        133166 non-null object\n",
      "Date          133166 non-null object\n",
      "Id            133166 non-null int64\n",
      "Type          133166 non-null object\n",
      "Name          133166 non-null object\n",
      "BaseType      100461 non-null object\n",
      "Variant       18075 non-null object\n",
      "Links         54672 non-null object\n",
      "Value         133166 non-null float64\n",
      "Confidence    133166 non-null object\n",
      "dtypes: float64(1), int64(1), object(8)\n",
      "memory usage: 10.2+ MB\n"
     ]
    }
   ],
   "source": [
    "breach_items.info()"
   ]
  },
  {
   "cell_type": "code",
   "execution_count": 167,
   "metadata": {},
   "outputs": [
    {
     "data": {
      "text/plain": [
       "Index(['League', 'Date', 'Id', 'Type', 'Name', 'BaseType', 'Variant', 'Links',\n",
       "       'Value', 'Confidence'],\n",
       "      dtype='object')"
      ]
     },
     "execution_count": 167,
     "metadata": {},
     "output_type": "execute_result"
    }
   ],
   "source": [
    "breach_items.columns"
   ]
  },
  {
   "cell_type": "markdown",
   "metadata": {},
   "source": [
    "## Removing Unnecessary Information and Filling in Prophecies and Divination Cards"
   ]
  },
  {
   "cell_type": "code",
   "execution_count": 168,
   "metadata": {},
   "outputs": [
    {
     "name": "stdout",
     "output_type": "stream",
     "text": [
      "<class 'pandas.core.frame.DataFrame'>\n",
      "RangeIndex: 133166 entries, 0 to 133165\n",
      "Data columns (total 8 columns):\n",
      "League        133166 non-null object\n",
      "Date          133166 non-null object\n",
      "Id            133166 non-null int64\n",
      "Type          133166 non-null object\n",
      "Name          133166 non-null object\n",
      "BaseType      100461 non-null object\n",
      "Value         133166 non-null float64\n",
      "Confidence    133166 non-null object\n",
      "dtypes: float64(1), int64(1), object(6)\n",
      "memory usage: 8.1+ MB\n"
     ]
    }
   ],
   "source": [
    "breach_items_edited1 = breach_items.drop([\"Links\", \"Variant\"], axis = 1)\n",
    "breach_items_edited1.info()"
   ]
  },
  {
   "cell_type": "code",
   "execution_count": 169,
   "metadata": {},
   "outputs": [
    {
     "data": {
      "text/plain": [
       "Prophecy          17317\n",
       "DivinationCard    15388\n",
       "Name: Type, dtype: int64"
      ]
     },
     "execution_count": 169,
     "metadata": {},
     "output_type": "execute_result"
    }
   ],
   "source": [
    "_ = breach_items_edited1[breach_items_edited1.BaseType.isnull()]\n",
    "_.Type.value_counts()"
   ]
  },
  {
   "cell_type": "code",
   "execution_count": 170,
   "metadata": {},
   "outputs": [
    {
     "name": "stdout",
     "output_type": "stream",
     "text": [
      "<class 'pandas.core.frame.DataFrame'>\n",
      "RangeIndex: 133166 entries, 0 to 133165\n",
      "Data columns (total 8 columns):\n",
      "League        133166 non-null object\n",
      "Date          133166 non-null object\n",
      "Id            133166 non-null int64\n",
      "Type          133166 non-null object\n",
      "Name          133166 non-null object\n",
      "BaseType      100461 non-null object\n",
      "Value         133166 non-null float64\n",
      "Confidence    133166 non-null object\n",
      "dtypes: float64(1), int64(1), object(6)\n",
      "memory usage: 8.1+ MB\n"
     ]
    }
   ],
   "source": [
    "_2 = breach_items_edited1\n",
    "_2.info()"
   ]
  },
  {
   "cell_type": "code",
   "execution_count": 171,
   "metadata": {},
   "outputs": [
    {
     "name": "stdout",
     "output_type": "stream",
     "text": [
      "<class 'pandas.core.frame.DataFrame'>\n",
      "RangeIndex: 133166 entries, 0 to 133165\n",
      "Data columns (total 8 columns):\n",
      "League        133166 non-null object\n",
      "Date          133166 non-null object\n",
      "Id            133166 non-null int64\n",
      "Type          133166 non-null object\n",
      "Name          133166 non-null object\n",
      "BaseType      133166 non-null object\n",
      "Value         133166 non-null float64\n",
      "Confidence    133166 non-null object\n",
      "dtypes: float64(1), int64(1), object(6)\n",
      "memory usage: 8.1+ MB\n"
     ]
    }
   ],
   "source": [
    "_2.BaseType = _2.BaseType.fillna(_2.Type)\n",
    "_2.info()\n",
    "breach_items_edited2 = _2"
   ]
  },
  {
   "cell_type": "code",
   "execution_count": 172,
   "metadata": {
    "scrolled": false
   },
   "outputs": [
    {
     "data": {
      "text/plain": [
       "['Headhunter',\n",
       " 'Trash to Treasure',\n",
       " 'Eyes of the Greatwolf',\n",
       " 'Skyforth',\n",
       " \"Rigwald's Savagery\",\n",
       " 'Natural Hierarchy',\n",
       " \"Demigod's Bounty\",\n",
       " \"Atziri's Acuity\",\n",
       " \"Emperor's Mastery\",\n",
       " \"Rigwald's Command\",\n",
       " 'House of Mirrors',\n",
       " 'The Doctor',\n",
       " 'Fated Connections',\n",
       " \"Atziri's Disfavour\",\n",
       " \"Demigod's Dominance\"]"
      ]
     },
     "execution_count": 172,
     "metadata": {},
     "output_type": "execute_result"
    }
   ],
   "source": [
    "medianseries = breach_items_edited2.groupby(\"Name\")[\"Value\"].agg(\"median\")\n",
    "sorted_series = medianseries.sort_values(ascending = False)\n",
    "top_15 = list(sorted_series[:15].index)\n",
    "top_15"
   ]
  },
  {
   "cell_type": "code",
   "execution_count": 173,
   "metadata": {},
   "outputs": [
    {
     "data": {
      "text/html": [
       "<div>\n",
       "<style scoped>\n",
       "    .dataframe tbody tr th:only-of-type {\n",
       "        vertical-align: middle;\n",
       "    }\n",
       "\n",
       "    .dataframe tbody tr th {\n",
       "        vertical-align: top;\n",
       "    }\n",
       "\n",
       "    .dataframe thead th {\n",
       "        text-align: right;\n",
       "    }\n",
       "</style>\n",
       "<table border=\"1\" class=\"dataframe\">\n",
       "  <thead>\n",
       "    <tr style=\"text-align: right;\">\n",
       "      <th></th>\n",
       "      <th>League</th>\n",
       "      <th>Date</th>\n",
       "      <th>Id</th>\n",
       "      <th>Type</th>\n",
       "      <th>Name</th>\n",
       "      <th>BaseType</th>\n",
       "      <th>Value</th>\n",
       "      <th>Confidence</th>\n",
       "    </tr>\n",
       "  </thead>\n",
       "  <tbody>\n",
       "    <tr>\n",
       "      <th>68886</th>\n",
       "      <td>Breach</td>\n",
       "      <td>2016-12-03</td>\n",
       "      <td>1476</td>\n",
       "      <td>DivinationCard</td>\n",
       "      <td>The Doctor</td>\n",
       "      <td>DivinationCard</td>\n",
       "      <td>577.70500</td>\n",
       "      <td>Low</td>\n",
       "    </tr>\n",
       "    <tr>\n",
       "      <th>68887</th>\n",
       "      <td>Breach</td>\n",
       "      <td>2016-12-04</td>\n",
       "      <td>1476</td>\n",
       "      <td>DivinationCard</td>\n",
       "      <td>The Doctor</td>\n",
       "      <td>DivinationCard</td>\n",
       "      <td>407.78140</td>\n",
       "      <td>High</td>\n",
       "    </tr>\n",
       "    <tr>\n",
       "      <th>68888</th>\n",
       "      <td>Breach</td>\n",
       "      <td>2016-12-05</td>\n",
       "      <td>1476</td>\n",
       "      <td>DivinationCard</td>\n",
       "      <td>The Doctor</td>\n",
       "      <td>DivinationCard</td>\n",
       "      <td>249.16214</td>\n",
       "      <td>High</td>\n",
       "    </tr>\n",
       "    <tr>\n",
       "      <th>68889</th>\n",
       "      <td>Breach</td>\n",
       "      <td>2016-12-06</td>\n",
       "      <td>1476</td>\n",
       "      <td>DivinationCard</td>\n",
       "      <td>The Doctor</td>\n",
       "      <td>DivinationCard</td>\n",
       "      <td>253.43036</td>\n",
       "      <td>High</td>\n",
       "    </tr>\n",
       "    <tr>\n",
       "      <th>68890</th>\n",
       "      <td>Breach</td>\n",
       "      <td>2016-12-07</td>\n",
       "      <td>1476</td>\n",
       "      <td>DivinationCard</td>\n",
       "      <td>The Doctor</td>\n",
       "      <td>DivinationCard</td>\n",
       "      <td>302.59298</td>\n",
       "      <td>High</td>\n",
       "    </tr>\n",
       "  </tbody>\n",
       "</table>\n",
       "</div>"
      ],
      "text/plain": [
       "       League        Date    Id            Type        Name        BaseType  \\\n",
       "68886  Breach  2016-12-03  1476  DivinationCard  The Doctor  DivinationCard   \n",
       "68887  Breach  2016-12-04  1476  DivinationCard  The Doctor  DivinationCard   \n",
       "68888  Breach  2016-12-05  1476  DivinationCard  The Doctor  DivinationCard   \n",
       "68889  Breach  2016-12-06  1476  DivinationCard  The Doctor  DivinationCard   \n",
       "68890  Breach  2016-12-07  1476  DivinationCard  The Doctor  DivinationCard   \n",
       "\n",
       "           Value Confidence  \n",
       "68886  577.70500        Low  \n",
       "68887  407.78140       High  \n",
       "68888  249.16214       High  \n",
       "68889  253.43036       High  \n",
       "68890  302.59298       High  "
      ]
     },
     "execution_count": 173,
     "metadata": {},
     "output_type": "execute_result"
    }
   ],
   "source": [
    "breach_items_top_15 = breach_items_edited2.loc[breach_items_edited2[\"Name\"].isin(top_15)]\n",
    "breach_items = breach_items_top_15\n",
    "breach_items_top_15.head()"
   ]
  },
  {
   "cell_type": "markdown",
   "metadata": {},
   "source": [
    "## Adding Relative Date Column"
   ]
  },
  {
   "cell_type": "code",
   "execution_count": 174,
   "metadata": {},
   "outputs": [
    {
     "name": "stdout",
     "output_type": "stream",
     "text": [
      "<class 'pandas.core.frame.DataFrame'>\n",
      "Int64Index: 1352 entries, 68886 to 132876\n",
      "Data columns (total 8 columns):\n",
      "League        1352 non-null object\n",
      "Date          1352 non-null datetime64[ns]\n",
      "Id            1352 non-null int64\n",
      "Type          1352 non-null object\n",
      "Name          1352 non-null object\n",
      "BaseType      1352 non-null object\n",
      "Value         1352 non-null float64\n",
      "Confidence    1352 non-null object\n",
      "dtypes: datetime64[ns](1), float64(1), int64(1), object(5)\n",
      "memory usage: 95.1+ KB\n"
     ]
    }
   ],
   "source": [
    "breach_items[\"Date\"] = breach_items[\"Date\"].astype('datetime64[D]')\n",
    "breach_items.info()"
   ]
  },
  {
   "cell_type": "code",
   "execution_count": 175,
   "metadata": {},
   "outputs": [
    {
     "data": {
      "text/plain": [
       "Timestamp('2016-12-03 00:00:00')"
      ]
     },
     "execution_count": 175,
     "metadata": {},
     "output_type": "execute_result"
    }
   ],
   "source": [
    "startdate = breach_items[\"Date\"].min()\n",
    "startdate"
   ]
  },
  {
   "cell_type": "code",
   "execution_count": 176,
   "metadata": {},
   "outputs": [],
   "source": [
    "breach_items[\"RelativeDate\"] = (breach_items[\"Date\"] - startdate).astype('timedelta64[D]')"
   ]
  },
  {
   "cell_type": "code",
   "execution_count": 177,
   "metadata": {},
   "outputs": [],
   "source": [
    "breach_edited = breach_items.drop(\"Date\", axis = 1)"
   ]
  },
  {
   "cell_type": "code",
   "execution_count": 178,
   "metadata": {},
   "outputs": [],
   "source": [
    "breach_edited[\"RelativeDate\"] = pd.to_timedelta(breach_edited[\"RelativeDate\"], unit = \"D\")"
   ]
  },
  {
   "cell_type": "code",
   "execution_count": 179,
   "metadata": {
    "scrolled": true
   },
   "outputs": [
    {
     "data": {
      "text/html": [
       "<div>\n",
       "<style scoped>\n",
       "    .dataframe tbody tr th:only-of-type {\n",
       "        vertical-align: middle;\n",
       "    }\n",
       "\n",
       "    .dataframe tbody tr th {\n",
       "        vertical-align: top;\n",
       "    }\n",
       "\n",
       "    .dataframe thead th {\n",
       "        text-align: right;\n",
       "    }\n",
       "</style>\n",
       "<table border=\"1\" class=\"dataframe\">\n",
       "  <thead>\n",
       "    <tr style=\"text-align: right;\">\n",
       "      <th></th>\n",
       "      <th>League</th>\n",
       "      <th>Id</th>\n",
       "      <th>Type</th>\n",
       "      <th>Name</th>\n",
       "      <th>BaseType</th>\n",
       "      <th>Value</th>\n",
       "      <th>Confidence</th>\n",
       "      <th>RelativeDate</th>\n",
       "    </tr>\n",
       "  </thead>\n",
       "  <tbody>\n",
       "    <tr>\n",
       "      <th>68886</th>\n",
       "      <td>Breach</td>\n",
       "      <td>1476</td>\n",
       "      <td>DivinationCard</td>\n",
       "      <td>The Doctor</td>\n",
       "      <td>DivinationCard</td>\n",
       "      <td>577.70500</td>\n",
       "      <td>Low</td>\n",
       "      <td>0 days</td>\n",
       "    </tr>\n",
       "    <tr>\n",
       "      <th>68887</th>\n",
       "      <td>Breach</td>\n",
       "      <td>1476</td>\n",
       "      <td>DivinationCard</td>\n",
       "      <td>The Doctor</td>\n",
       "      <td>DivinationCard</td>\n",
       "      <td>407.78140</td>\n",
       "      <td>High</td>\n",
       "      <td>1 days</td>\n",
       "    </tr>\n",
       "    <tr>\n",
       "      <th>68888</th>\n",
       "      <td>Breach</td>\n",
       "      <td>1476</td>\n",
       "      <td>DivinationCard</td>\n",
       "      <td>The Doctor</td>\n",
       "      <td>DivinationCard</td>\n",
       "      <td>249.16214</td>\n",
       "      <td>High</td>\n",
       "      <td>2 days</td>\n",
       "    </tr>\n",
       "    <tr>\n",
       "      <th>68889</th>\n",
       "      <td>Breach</td>\n",
       "      <td>1476</td>\n",
       "      <td>DivinationCard</td>\n",
       "      <td>The Doctor</td>\n",
       "      <td>DivinationCard</td>\n",
       "      <td>253.43036</td>\n",
       "      <td>High</td>\n",
       "      <td>3 days</td>\n",
       "    </tr>\n",
       "    <tr>\n",
       "      <th>68890</th>\n",
       "      <td>Breach</td>\n",
       "      <td>1476</td>\n",
       "      <td>DivinationCard</td>\n",
       "      <td>The Doctor</td>\n",
       "      <td>DivinationCard</td>\n",
       "      <td>302.59298</td>\n",
       "      <td>High</td>\n",
       "      <td>4 days</td>\n",
       "    </tr>\n",
       "  </tbody>\n",
       "</table>\n",
       "</div>"
      ],
      "text/plain": [
       "       League    Id            Type        Name        BaseType      Value  \\\n",
       "68886  Breach  1476  DivinationCard  The Doctor  DivinationCard  577.70500   \n",
       "68887  Breach  1476  DivinationCard  The Doctor  DivinationCard  407.78140   \n",
       "68888  Breach  1476  DivinationCard  The Doctor  DivinationCard  249.16214   \n",
       "68889  Breach  1476  DivinationCard  The Doctor  DivinationCard  253.43036   \n",
       "68890  Breach  1476  DivinationCard  The Doctor  DivinationCard  302.59298   \n",
       "\n",
       "      Confidence RelativeDate  \n",
       "68886        Low       0 days  \n",
       "68887       High       1 days  \n",
       "68888       High       2 days  \n",
       "68889       High       3 days  \n",
       "68890       High       4 days  "
      ]
     },
     "execution_count": 179,
     "metadata": {},
     "output_type": "execute_result"
    }
   ],
   "source": [
    "breach_edited.head()"
   ]
  },
  {
   "cell_type": "markdown",
   "metadata": {},
   "source": [
    "## Add column indicating league's lifespan"
   ]
  },
  {
   "cell_type": "code",
   "execution_count": 180,
   "metadata": {},
   "outputs": [],
   "source": [
    "def league_lifespan(row):\n",
    "    early_league = dt.timedelta(days = 14)\n",
    "    mid_league = dt.timedelta(days = 60)\n",
    "    if row[\"RelativeDate\"] <= early_league:\n",
    "        return \"Early\"\n",
    "    elif row[\"RelativeDate\"] <= mid_league:\n",
    "        return \"Mid\"\n",
    "    return \"End\""
   ]
  },
  {
   "cell_type": "code",
   "execution_count": 181,
   "metadata": {},
   "outputs": [
    {
     "data": {
      "text/html": [
       "<div>\n",
       "<style scoped>\n",
       "    .dataframe tbody tr th:only-of-type {\n",
       "        vertical-align: middle;\n",
       "    }\n",
       "\n",
       "    .dataframe tbody tr th {\n",
       "        vertical-align: top;\n",
       "    }\n",
       "\n",
       "    .dataframe thead th {\n",
       "        text-align: right;\n",
       "    }\n",
       "</style>\n",
       "<table border=\"1\" class=\"dataframe\">\n",
       "  <thead>\n",
       "    <tr style=\"text-align: right;\">\n",
       "      <th></th>\n",
       "      <th>League</th>\n",
       "      <th>Id</th>\n",
       "      <th>Type</th>\n",
       "      <th>Name</th>\n",
       "      <th>BaseType</th>\n",
       "      <th>Value</th>\n",
       "      <th>Confidence</th>\n",
       "      <th>RelativeDate</th>\n",
       "      <th>League Lifespan</th>\n",
       "    </tr>\n",
       "  </thead>\n",
       "  <tbody>\n",
       "    <tr>\n",
       "      <th>68886</th>\n",
       "      <td>Breach</td>\n",
       "      <td>1476</td>\n",
       "      <td>DivinationCard</td>\n",
       "      <td>The Doctor</td>\n",
       "      <td>DivinationCard</td>\n",
       "      <td>577.70500</td>\n",
       "      <td>Low</td>\n",
       "      <td>0 days</td>\n",
       "      <td>Early</td>\n",
       "    </tr>\n",
       "    <tr>\n",
       "      <th>68887</th>\n",
       "      <td>Breach</td>\n",
       "      <td>1476</td>\n",
       "      <td>DivinationCard</td>\n",
       "      <td>The Doctor</td>\n",
       "      <td>DivinationCard</td>\n",
       "      <td>407.78140</td>\n",
       "      <td>High</td>\n",
       "      <td>1 days</td>\n",
       "      <td>Early</td>\n",
       "    </tr>\n",
       "    <tr>\n",
       "      <th>68888</th>\n",
       "      <td>Breach</td>\n",
       "      <td>1476</td>\n",
       "      <td>DivinationCard</td>\n",
       "      <td>The Doctor</td>\n",
       "      <td>DivinationCard</td>\n",
       "      <td>249.16214</td>\n",
       "      <td>High</td>\n",
       "      <td>2 days</td>\n",
       "      <td>Early</td>\n",
       "    </tr>\n",
       "    <tr>\n",
       "      <th>68889</th>\n",
       "      <td>Breach</td>\n",
       "      <td>1476</td>\n",
       "      <td>DivinationCard</td>\n",
       "      <td>The Doctor</td>\n",
       "      <td>DivinationCard</td>\n",
       "      <td>253.43036</td>\n",
       "      <td>High</td>\n",
       "      <td>3 days</td>\n",
       "      <td>Early</td>\n",
       "    </tr>\n",
       "    <tr>\n",
       "      <th>68890</th>\n",
       "      <td>Breach</td>\n",
       "      <td>1476</td>\n",
       "      <td>DivinationCard</td>\n",
       "      <td>The Doctor</td>\n",
       "      <td>DivinationCard</td>\n",
       "      <td>302.59298</td>\n",
       "      <td>High</td>\n",
       "      <td>4 days</td>\n",
       "      <td>Early</td>\n",
       "    </tr>\n",
       "  </tbody>\n",
       "</table>\n",
       "</div>"
      ],
      "text/plain": [
       "       League    Id            Type        Name        BaseType      Value  \\\n",
       "68886  Breach  1476  DivinationCard  The Doctor  DivinationCard  577.70500   \n",
       "68887  Breach  1476  DivinationCard  The Doctor  DivinationCard  407.78140   \n",
       "68888  Breach  1476  DivinationCard  The Doctor  DivinationCard  249.16214   \n",
       "68889  Breach  1476  DivinationCard  The Doctor  DivinationCard  253.43036   \n",
       "68890  Breach  1476  DivinationCard  The Doctor  DivinationCard  302.59298   \n",
       "\n",
       "      Confidence RelativeDate League Lifespan  \n",
       "68886        Low       0 days           Early  \n",
       "68887       High       1 days           Early  \n",
       "68888       High       2 days           Early  \n",
       "68889       High       3 days           Early  \n",
       "68890       High       4 days           Early  "
      ]
     },
     "execution_count": 181,
     "metadata": {},
     "output_type": "execute_result"
    }
   ],
   "source": [
    "breach_edited[\"League Lifespan\"] = breach_edited.apply(league_lifespan, axis = 1)\n",
    "breach_edited.head()"
   ]
  },
  {
   "cell_type": "markdown",
   "metadata": {},
   "source": [
    "# Wrangling Currency Files"
   ]
  },
  {
   "cell_type": "code",
   "execution_count": 182,
   "metadata": {},
   "outputs": [
    {
     "name": "stdout",
     "output_type": "stream",
     "text": [
      "<class 'pandas.core.frame.DataFrame'>\n",
      "RangeIndex: 9932 entries, 0 to 9931\n",
      "Data columns (total 6 columns):\n",
      "League        9932 non-null object\n",
      "Date          9932 non-null object\n",
      "Get           9932 non-null object\n",
      "Pay           9932 non-null object\n",
      "Value         9932 non-null float64\n",
      "Confidence    9932 non-null object\n",
      "dtypes: float64(1), object(5)\n",
      "memory usage: 465.6+ KB\n"
     ]
    }
   ],
   "source": [
    "currency_to_drop = [\"Portal Scroll\", \"Scroll of Wisdom\", \"Armourer's Scrap\", \"Perandus Coin\", \"Orb of Transmutation\", \"Blacksmith's Whetstone\", \"Orb of Augmentation\", \"Orb of Alteration\", \"Splinter of Tul\", \"Chromatic Orb\", \"Splinter of Esh\", \"Splinter of Xoph\", \"Orb of Chance\", \"Glassblower's Bauble\", \"Splinter of Uul-Netol\", \"Silver Coin\"]\n",
    "currency_copy = breach_currency\n",
    "currency_copy.info()"
   ]
  },
  {
   "cell_type": "code",
   "execution_count": 183,
   "metadata": {},
   "outputs": [],
   "source": [
    "def currency_info_remove(df):\n",
    "    currency_to_drop = [\"Portal Scroll\", \"Scroll of Wisdom\", \"Armourer's Scrap\", \"Perandus Coin\", \"Orb of Transmutation\", \"Blacksmith's Whetstone\", \"Orb of Augmentation\", \"Orb of Alteration\", \"Splinter of Tul\", \"Chromatic Orb\", \"Splinter of Esh\", \"Splinter of Xoph\", \"Orb of Chance\", \"Glassblower's Bauble\", \"Splinter of Uul-Netol\", \"Silver Coin\"]\n",
    "    df_currency_dropped = df.loc[~(df[\"Get\"].isin(currency_to_drop) | df[\"Pay\"].isin(currency_to_drop))]\n",
    "    return df_currency_dropped"
   ]
  },
  {
   "cell_type": "code",
   "execution_count": 184,
   "metadata": {},
   "outputs": [],
   "source": [
    "currency_dropped = currency_info_remove(currency_copy)"
   ]
  },
  {
   "cell_type": "code",
   "execution_count": 185,
   "metadata": {
    "scrolled": true
   },
   "outputs": [
    {
     "name": "stdout",
     "output_type": "stream",
     "text": [
      "<class 'pandas.core.frame.DataFrame'>\n",
      "Int64Index: 7149 entries, 356 to 9931\n",
      "Data columns (total 6 columns):\n",
      "League        7149 non-null object\n",
      "Date          7149 non-null object\n",
      "Get           7149 non-null object\n",
      "Pay           7149 non-null object\n",
      "Value         7149 non-null float64\n",
      "Confidence    7149 non-null object\n",
      "dtypes: float64(1), object(5)\n",
      "memory usage: 391.0+ KB\n"
     ]
    }
   ],
   "source": [
    "currency_dropped.info()"
   ]
  },
  {
   "cell_type": "code",
   "execution_count": 186,
   "metadata": {},
   "outputs": [
    {
     "name": "stdout",
     "output_type": "stream",
     "text": [
      "<class 'pandas.core.frame.DataFrame'>\n",
      "Int64Index: 7149 entries, 356 to 9931\n",
      "Data columns (total 7 columns):\n",
      "League             7149 non-null object\n",
      "Get                7149 non-null object\n",
      "Pay                7149 non-null object\n",
      "Value              7149 non-null float64\n",
      "Confidence         7149 non-null object\n",
      "RelativeDate       7149 non-null timedelta64[ns]\n",
      "League Lifespan    7149 non-null object\n",
      "dtypes: float64(1), object(5), timedelta64[ns](1)\n",
      "memory usage: 446.8+ KB\n"
     ]
    }
   ],
   "source": [
    "currency_cleaned = currency_file_clean(breach_currency)\n",
    "currency_cleaned.info()"
   ]
  },
  {
   "cell_type": "markdown",
   "metadata": {},
   "source": [
    "# Generalized File Import and Concatenate"
   ]
  },
  {
   "cell_type": "markdown",
   "metadata": {},
   "source": [
    "## File Import"
   ]
  },
  {
   "cell_type": "code",
   "execution_count": 187,
   "metadata": {},
   "outputs": [],
   "source": [
    "item_df_list = []"
   ]
  },
  {
   "cell_type": "code",
   "execution_count": 188,
   "metadata": {},
   "outputs": [],
   "source": [
    "for filename in glob.glob(\"*_items.csv\"):\n",
    "    df = pd.read_csv(filename, delimiter = \";\", low_memory = False)\n",
    "    df_edited = item_file_clean(df)\n",
    "    item_df_list.append(df_edited)"
   ]
  },
  {
   "cell_type": "code",
   "execution_count": 189,
   "metadata": {
    "scrolled": true
   },
   "outputs": [
    {
     "name": "stdout",
     "output_type": "stream",
     "text": [
      "<class 'pandas.core.frame.DataFrame'>\n",
      "Int64Index: 2600 entries, 50551 to 246383\n",
      "Data columns (total 9 columns):\n",
      "League             2600 non-null object\n",
      "Id                 2600 non-null int64\n",
      "Type               2600 non-null object\n",
      "Name               2600 non-null object\n",
      "BaseType           2600 non-null object\n",
      "Value              2600 non-null float64\n",
      "Confidence         2600 non-null object\n",
      "RelativeDate       2600 non-null timedelta64[ns]\n",
      "League Lifespan    2600 non-null object\n",
      "dtypes: float64(1), int64(1), object(6), timedelta64[ns](1)\n",
      "memory usage: 203.1+ KB\n"
     ]
    }
   ],
   "source": [
    "item_df_list[1].info()"
   ]
  },
  {
   "cell_type": "code",
   "execution_count": 190,
   "metadata": {},
   "outputs": [],
   "source": [
    "currency_df_list = []"
   ]
  },
  {
   "cell_type": "code",
   "execution_count": 191,
   "metadata": {},
   "outputs": [],
   "source": [
    "for filename in glob.glob(\"*_currency.csv\"):\n",
    "    df = pd.read_csv(filename, delimiter = \";\", low_memory = False)\n",
    "    df_edited = currency_file_clean(df)\n",
    "    currency_df_list.append(df_edited)"
   ]
  },
  {
   "cell_type": "code",
   "execution_count": 192,
   "metadata": {},
   "outputs": [
    {
     "name": "stdout",
     "output_type": "stream",
     "text": [
      "<class 'pandas.core.frame.DataFrame'>\n",
      "Int64Index: 12387 entries, 369 to 16162\n",
      "Data columns (total 7 columns):\n",
      "League             12387 non-null object\n",
      "Get                12387 non-null object\n",
      "Pay                12387 non-null object\n",
      "Value              12387 non-null float64\n",
      "Confidence         12387 non-null object\n",
      "RelativeDate       12387 non-null timedelta64[ns]\n",
      "League Lifespan    12387 non-null object\n",
      "dtypes: float64(1), object(5), timedelta64[ns](1)\n",
      "memory usage: 774.2+ KB\n"
     ]
    }
   ],
   "source": [
    "currency_df_list[2].info()"
   ]
  },
  {
   "cell_type": "markdown",
   "metadata": {},
   "source": [
    "## Concatenation"
   ]
  },
  {
   "cell_type": "code",
   "execution_count": 193,
   "metadata": {},
   "outputs": [],
   "source": [
    "item_df = pd.concat(item_df_list, axis = 0).reset_index(drop = True)\n",
    "del item_df_list"
   ]
  },
  {
   "cell_type": "code",
   "execution_count": 194,
   "metadata": {
    "scrolled": true
   },
   "outputs": [
    {
     "name": "stdout",
     "output_type": "stream",
     "text": [
      "<class 'pandas.core.frame.DataFrame'>\n",
      "RangeIndex: 6164 entries, 0 to 6163\n",
      "Data columns (total 9 columns):\n",
      "League             6164 non-null object\n",
      "Id                 6164 non-null int64\n",
      "Type               6164 non-null object\n",
      "Name               6164 non-null object\n",
      "BaseType           6164 non-null object\n",
      "Value              6164 non-null float64\n",
      "Confidence         6164 non-null object\n",
      "RelativeDate       6164 non-null timedelta64[ns]\n",
      "League Lifespan    6164 non-null object\n",
      "dtypes: float64(1), int64(1), object(6), timedelta64[ns](1)\n",
      "memory usage: 433.5+ KB\n"
     ]
    }
   ],
   "source": [
    "item_df.info()"
   ]
  },
  {
   "cell_type": "code",
   "execution_count": 200,
   "metadata": {},
   "outputs": [
    {
     "data": {
      "text/html": [
       "<div>\n",
       "<style scoped>\n",
       "    .dataframe tbody tr th:only-of-type {\n",
       "        vertical-align: middle;\n",
       "    }\n",
       "\n",
       "    .dataframe tbody tr th {\n",
       "        vertical-align: top;\n",
       "    }\n",
       "\n",
       "    .dataframe thead th {\n",
       "        text-align: right;\n",
       "    }\n",
       "</style>\n",
       "<table border=\"1\" class=\"dataframe\">\n",
       "  <thead>\n",
       "    <tr style=\"text-align: right;\">\n",
       "      <th></th>\n",
       "      <th>League</th>\n",
       "      <th>Id</th>\n",
       "      <th>Type</th>\n",
       "      <th>Name</th>\n",
       "      <th>BaseType</th>\n",
       "      <th>Value</th>\n",
       "      <th>Confidence</th>\n",
       "      <th>RelativeDate</th>\n",
       "      <th>League Lifespan</th>\n",
       "    </tr>\n",
       "  </thead>\n",
       "  <tbody>\n",
       "    <tr>\n",
       "      <th>0</th>\n",
       "      <td>Breach</td>\n",
       "      <td>1476</td>\n",
       "      <td>DivinationCard</td>\n",
       "      <td>The Doctor</td>\n",
       "      <td>DivinationCard</td>\n",
       "      <td>577.70500</td>\n",
       "      <td>Low</td>\n",
       "      <td>0 days</td>\n",
       "      <td>Early</td>\n",
       "    </tr>\n",
       "    <tr>\n",
       "      <th>1</th>\n",
       "      <td>Breach</td>\n",
       "      <td>1476</td>\n",
       "      <td>DivinationCard</td>\n",
       "      <td>The Doctor</td>\n",
       "      <td>DivinationCard</td>\n",
       "      <td>407.78140</td>\n",
       "      <td>High</td>\n",
       "      <td>1 days</td>\n",
       "      <td>Early</td>\n",
       "    </tr>\n",
       "    <tr>\n",
       "      <th>2</th>\n",
       "      <td>Breach</td>\n",
       "      <td>1476</td>\n",
       "      <td>DivinationCard</td>\n",
       "      <td>The Doctor</td>\n",
       "      <td>DivinationCard</td>\n",
       "      <td>249.16214</td>\n",
       "      <td>High</td>\n",
       "      <td>2 days</td>\n",
       "      <td>Early</td>\n",
       "    </tr>\n",
       "    <tr>\n",
       "      <th>3</th>\n",
       "      <td>Breach</td>\n",
       "      <td>1476</td>\n",
       "      <td>DivinationCard</td>\n",
       "      <td>The Doctor</td>\n",
       "      <td>DivinationCard</td>\n",
       "      <td>253.43036</td>\n",
       "      <td>High</td>\n",
       "      <td>3 days</td>\n",
       "      <td>Early</td>\n",
       "    </tr>\n",
       "    <tr>\n",
       "      <th>4</th>\n",
       "      <td>Breach</td>\n",
       "      <td>1476</td>\n",
       "      <td>DivinationCard</td>\n",
       "      <td>The Doctor</td>\n",
       "      <td>DivinationCard</td>\n",
       "      <td>302.59298</td>\n",
       "      <td>High</td>\n",
       "      <td>4 days</td>\n",
       "      <td>Early</td>\n",
       "    </tr>\n",
       "  </tbody>\n",
       "</table>\n",
       "</div>"
      ],
      "text/plain": [
       "   League    Id            Type        Name        BaseType      Value  \\\n",
       "0  Breach  1476  DivinationCard  The Doctor  DivinationCard  577.70500   \n",
       "1  Breach  1476  DivinationCard  The Doctor  DivinationCard  407.78140   \n",
       "2  Breach  1476  DivinationCard  The Doctor  DivinationCard  249.16214   \n",
       "3  Breach  1476  DivinationCard  The Doctor  DivinationCard  253.43036   \n",
       "4  Breach  1476  DivinationCard  The Doctor  DivinationCard  302.59298   \n",
       "\n",
       "  Confidence RelativeDate League Lifespan  \n",
       "0        Low       0 days           Early  \n",
       "1       High       1 days           Early  \n",
       "2       High       2 days           Early  \n",
       "3       High       3 days           Early  \n",
       "4       High       4 days           Early  "
      ]
     },
     "execution_count": 200,
     "metadata": {},
     "output_type": "execute_result"
    }
   ],
   "source": [
    "item_df.head()"
   ]
  },
  {
   "cell_type": "code",
   "execution_count": 196,
   "metadata": {},
   "outputs": [],
   "source": [
    "currency_df = pd.concat(currency_df_list, axis = 0).reset_index(drop = True)\n",
    "del currency_df_list"
   ]
  },
  {
   "cell_type": "code",
   "execution_count": 197,
   "metadata": {
    "scrolled": false
   },
   "outputs": [
    {
     "name": "stdout",
     "output_type": "stream",
     "text": [
      "<class 'pandas.core.frame.DataFrame'>\n",
      "RangeIndex: 38885 entries, 0 to 38884\n",
      "Data columns (total 7 columns):\n",
      "League             38885 non-null object\n",
      "Get                38885 non-null object\n",
      "Pay                38885 non-null object\n",
      "Value              38885 non-null float64\n",
      "Confidence         38885 non-null object\n",
      "RelativeDate       38885 non-null timedelta64[ns]\n",
      "League Lifespan    38885 non-null object\n",
      "dtypes: float64(1), object(5), timedelta64[ns](1)\n",
      "memory usage: 2.1+ MB\n"
     ]
    }
   ],
   "source": [
    "currency_df.info()"
   ]
  },
  {
   "cell_type": "code",
   "execution_count": 198,
   "metadata": {},
   "outputs": [
    {
     "data": {
      "text/html": [
       "<div>\n",
       "<style scoped>\n",
       "    .dataframe tbody tr th:only-of-type {\n",
       "        vertical-align: middle;\n",
       "    }\n",
       "\n",
       "    .dataframe tbody tr th {\n",
       "        vertical-align: top;\n",
       "    }\n",
       "\n",
       "    .dataframe thead th {\n",
       "        text-align: right;\n",
       "    }\n",
       "</style>\n",
       "<table border=\"1\" class=\"dataframe\">\n",
       "  <thead>\n",
       "    <tr style=\"text-align: right;\">\n",
       "      <th></th>\n",
       "      <th>League</th>\n",
       "      <th>Get</th>\n",
       "      <th>Pay</th>\n",
       "      <th>Value</th>\n",
       "      <th>Confidence</th>\n",
       "      <th>RelativeDate</th>\n",
       "      <th>League Lifespan</th>\n",
       "    </tr>\n",
       "  </thead>\n",
       "  <tbody>\n",
       "    <tr>\n",
       "      <th>0</th>\n",
       "      <td>Breach</td>\n",
       "      <td>Orb of Alchemy</td>\n",
       "      <td>Chaos Orb</td>\n",
       "      <td>0.68571</td>\n",
       "      <td>Medium</td>\n",
       "      <td>0 days</td>\n",
       "      <td>Early</td>\n",
       "    </tr>\n",
       "    <tr>\n",
       "      <th>1</th>\n",
       "      <td>Breach</td>\n",
       "      <td>Orb of Alchemy</td>\n",
       "      <td>Chaos Orb</td>\n",
       "      <td>0.23652</td>\n",
       "      <td>High</td>\n",
       "      <td>1 days</td>\n",
       "      <td>Early</td>\n",
       "    </tr>\n",
       "    <tr>\n",
       "      <th>2</th>\n",
       "      <td>Breach</td>\n",
       "      <td>Orb of Alchemy</td>\n",
       "      <td>Chaos Orb</td>\n",
       "      <td>0.16667</td>\n",
       "      <td>High</td>\n",
       "      <td>2 days</td>\n",
       "      <td>Early</td>\n",
       "    </tr>\n",
       "    <tr>\n",
       "      <th>3</th>\n",
       "      <td>Breach</td>\n",
       "      <td>Orb of Alchemy</td>\n",
       "      <td>Chaos Orb</td>\n",
       "      <td>0.19363</td>\n",
       "      <td>High</td>\n",
       "      <td>3 days</td>\n",
       "      <td>Early</td>\n",
       "    </tr>\n",
       "    <tr>\n",
       "      <th>4</th>\n",
       "      <td>Breach</td>\n",
       "      <td>Orb of Alchemy</td>\n",
       "      <td>Chaos Orb</td>\n",
       "      <td>0.21778</td>\n",
       "      <td>High</td>\n",
       "      <td>4 days</td>\n",
       "      <td>Early</td>\n",
       "    </tr>\n",
       "  </tbody>\n",
       "</table>\n",
       "</div>"
      ],
      "text/plain": [
       "   League             Get        Pay    Value Confidence RelativeDate  \\\n",
       "0  Breach  Orb of Alchemy  Chaos Orb  0.68571     Medium       0 days   \n",
       "1  Breach  Orb of Alchemy  Chaos Orb  0.23652       High       1 days   \n",
       "2  Breach  Orb of Alchemy  Chaos Orb  0.16667       High       2 days   \n",
       "3  Breach  Orb of Alchemy  Chaos Orb  0.19363       High       3 days   \n",
       "4  Breach  Orb of Alchemy  Chaos Orb  0.21778       High       4 days   \n",
       "\n",
       "  League Lifespan  \n",
       "0           Early  \n",
       "1           Early  \n",
       "2           Early  \n",
       "3           Early  \n",
       "4           Early  "
      ]
     },
     "execution_count": 198,
     "metadata": {},
     "output_type": "execute_result"
    }
   ],
   "source": [
    "currency_df.head()"
   ]
  }
 ],
 "metadata": {
  "kernelspec": {
   "display_name": "Python 3",
   "language": "python",
   "name": "python3"
  },
  "language_info": {
   "codemirror_mode": {
    "name": "ipython",
    "version": 3
   },
   "file_extension": ".py",
   "mimetype": "text/x-python",
   "name": "python",
   "nbconvert_exporter": "python",
   "pygments_lexer": "ipython3",
   "version": "3.6.5"
  }
 },
 "nbformat": 4,
 "nbformat_minor": 2
}
